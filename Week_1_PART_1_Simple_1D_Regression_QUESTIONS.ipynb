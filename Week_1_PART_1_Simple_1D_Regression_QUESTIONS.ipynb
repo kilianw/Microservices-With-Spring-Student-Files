{
  "nbformat": 4,
  "nbformat_minor": 0,
  "metadata": {
    "colab": {
      "provenance": [],
      "include_colab_link": true
    },
    "kernelspec": {
      "name": "python3",
      "display_name": "Python 3"
    },
    "language_info": {
      "name": "python"
    },
    "accelerator": "GPU",
    "gpuClass": "standard"
  },
  "cells": [
    {
      "cell_type": "markdown",
      "metadata": {
        "id": "view-in-github",
        "colab_type": "text"
      },
      "source": [
        "<a href=\"https://colab.research.google.com/github/kilianw/Microservices-With-Spring-Student-Files/blob/master/Week_1_PART_1_Simple_1D_Regression_QUESTIONS.ipynb\" target=\"_parent\"><img src=\"https://colab.research.google.com/assets/colab-badge.svg\" alt=\"Open In Colab\"/></a>"
      ]
    },
    {
      "cell_type": "markdown",
      "metadata": {
        "id": "vjYMyML4iWP9"
      },
      "source": [
        "# Building intuition: Regression with one input feature\n",
        "\n",
        "---\n",
        "\n",
        "> DUPLICATE THIS COLAB TO START WORKING ON IT. Using File > Save a copy to drive.\n"
      ]
    },
    {
      "cell_type": "markdown",
      "metadata": {
        "id": "bFuV20LKc0h3"
      },
      "source": [
        "## Instructions\n",
        "\n",
        "1. We provide starter code and data to give your work a common starting point and structure. You must keep function signatures unchanged to support later usage and to ensure your project is graded successfully.\n",
        "2. Read through the document and starting code before beginning your work. Understand the overall structure and goals of the project to ensure your implementation is efficient.\n"
      ]
    },
    {
      "cell_type": "markdown",
      "metadata": {
        "id": "kp7zit-ldh54"
      },
      "source": [
        "# Preliminaries of regression modeling"
      ]
    },
    {
      "cell_type": "markdown",
      "metadata": {
        "id": "06YM4lBE2Yz4"
      },
      "source": [
        "Some key components of any supervised learning task include:\n",
        "* Dataset $\\mathcal{D}$ with input/output pairs $(x,y) \\in D$\n",
        "* Function approximation model $f_\\theta(x)→y$\n",
        "* Loss (objective) function $\\mathcal{L}_{\\mathcal{D}}(f_\\theta )$\n",
        "* Training procedure to find $\\underset{\\theta \\in \\Theta}{\\operatorname{argmin}} \\mathcal{L}_\\mathcal{D}(f_\\theta )$\n",
        "\n",
        "Generally in supervised machine learning we seek to _learn_ the best function approximation model $f_\\theta(x)$ we can from the dataset $\\mathcal{D}$. The loss function provides a mathematical definition of model performance on a given dataset, and the learning process finds a set of parameters $\\theta$ that minimize the loss function. This same supervised learning framework is general enough to guide most of what we will cover in this course!\n",
        "\n",
        "This project is designed to help you start building models prior to learning the underlying theory. If you'd like to dig deeper into the math underlying this project now, here are some reading links:\n",
        "* [Elements of Statistical Learning](https://hastie.su.domains/Papers/ESLII.pdf). Chp 2\n",
        "* Stanford CS229 [Supervised Learning Class Notes](https://cs229.stanford.edu/notes2021fall/cs229-notes1.pdf)\n"
      ]
    },
    {
      "cell_type": "markdown",
      "metadata": {
        "id": "cLnq1K8g1Y49"
      },
      "source": [
        "**Starting with linear regression**\n",
        "\n",
        "Linear regression is a simple yet powerful modeling choice. Linear regression, often called least squares, models data by using a simple [line of best fit](https://www.mathsisfun.com/data/least-squares-regression.html) assumption. Let's see how a linear regression model looks using the supervised learning concepts above:\n",
        "\n",
        "**Function approximation model: Linear regression**\n",
        "\n",
        "$\\hat{y} = f_\\theta(x) = \\theta_1 x_1 + \\theta_2 x_2 + ...$\n",
        "\n",
        "Our model chooses a linear form so that $\\theta$ becomes a single coefficient for each input variable $x_i$.\n",
        "\n",
        "**Loss function: Least squares**\n",
        "\n",
        "$\\mathcal{L}_{\\mathcal{D}} (f_\\theta(x)) = \\sum_{i \\in \\mathcal{D}} (\\hat{y}^{(i)} - y^{(i)})^2$\n",
        "\n",
        "For each example, we compute the squared difference between the predicted and true values.\n",
        "\n",
        "**Training procedure**\n",
        "\n",
        "In this course, we won't cover much about different training/fitting procedures and how they work. For linear regression models, we have several training procedures which are fast, guaranteed to find the best model, and scale to large tasks.\n"
      ]
    },
    {
      "cell_type": "markdown",
      "source": [
        "# Building a first regression model"
      ],
      "metadata": {
        "id": "bcOaFYFsz3Xw"
      }
    },
    {
      "cell_type": "markdown",
      "metadata": {
        "id": "9y5POVgG3cUx"
      },
      "source": [
        "As a way to visualize more about training a model on a dataset, let's initially restrict our work to just a single input feature. This will allow directly plotting the data and resulting model predictions easily compared with the full, high-dimensional input features.\n",
        "\n",
        "Let's create a toy dataset by sampling random values for the input $x$ and define the output $y$ to be $y = wf(x) + \\epsilon$  where $w$ is a parameter we will learn, $\\epsilon$ is a term for random noise, and $f$ is any function which could be linear or nonlinear. If we choose $f$ to be linear, then we are choosing $y$ to be a linear function of $x$ which matches the assumption of our _linear_ regression model. However, for this exercise, we will choose $f$ to be \"almost\" linear. In this case, a linear regression model will be still be effective but not perfect in modeling the data."
      ]
    },
    {
      "cell_type": "markdown",
      "source": [
        "## Imports"
      ],
      "metadata": {
        "id": "wW2cKZsulh3O"
      }
    },
    {
      "cell_type": "code",
      "execution_count": null,
      "metadata": {
        "id": "jrC1bJ2RhqDs"
      },
      "outputs": [],
      "source": [
        "import numpy as np\n",
        "import pandas as pd"
      ]
    },
    {
      "cell_type": "code",
      "source": [
        "import matplotlib.pyplot as plt\n",
        "plt.style.use('ggplot')"
      ],
      "metadata": {
        "id": "wLVelwx-jot-"
      },
      "execution_count": null,
      "outputs": []
    },
    {
      "cell_type": "markdown",
      "source": [
        "## Creating a toy dataset"
      ],
      "metadata": {
        "id": "Hwf9CCi9lpfW"
      }
    },
    {
      "cell_type": "markdown",
      "source": [
        "When creating a toy dataset, we pick some true parameters of the model (see `w_true` below). Using these parameters, we generate target variables `y` given some random inputs `x`. To put this in the bigger picture, we will later train a model (that does not know `w_true`) to learn weights `w_learned` that best capture the relationship between `x` and `y`. If the model succeeds, we should expect `w_learned` to be close to `w_true`."
      ],
      "metadata": {
        "id": "F1lhIjoEigLZ"
      }
    },
    {
      "cell_type": "code",
      "metadata": {
        "id": "W-28UlRBFwhU"
      },
      "source": [
        "# parameters of toy dataset\n",
        "n_examples = 500\n",
        "w_true = 5.5\n",
        "\n",
        "# uniformly sample inputs x. Output y is almost linear with respect to x.\n",
        "dataset_X_1d = 5*(np.random.rand(n_examples,1) - 1)\n",
        "noise_1d = 0.8*np.random.randn(n_examples,1)\n",
        "f = lambda x: x * np.sin(2*x)  # nonlinear f\n",
        "dataset_y_1d =  w_true * dataset_X_1d + f(dataset_X_1d) + noise_1d\n",
        "dataset_y_1d = dataset_y_1d.ravel()"
      ],
      "execution_count": null,
      "outputs": []
    },
    {
      "cell_type": "markdown",
      "metadata": {
        "id": "2eTQBEktaHgg"
      },
      "source": [
        "Now let's plot each example in our dataset as a point in 2-D using the input feature $x$ and the target $y$. We can see a pattern in how the target $y$ varies as a function of where the $x$ point is on the x-axis. This mapping is the regression function our model attempts to approximate from the training data. You can see it is not a perfect correlation between $x$ and $y$, precisely because we added noise in generating the data. This is done to reflect real world datasets, where correlation between input and output variables is never 100%."
      ]
    },
    {
      "cell_type": "code",
      "metadata": {
        "id": "LDGn8NQ1GY5I",
        "colab": {
          "base_uri": "https://localhost:8080/",
          "height": 706
        },
        "outputId": "b76242ee-45b2-4d75-8c48-54bbadf7b93c"
      },
      "source": [
        "plt.figure(figsize=(8, 8))\n",
        "# dataset_X_1d has shape (500, 1) so index the 1st column\n",
        "plt.scatter(dataset_X_1d[:,0], dataset_y_1d)\n",
        "plt.xlabel('x', fontsize=18)\n",
        "plt.ylabel('y', fontsize=18)\n",
        "plt.show()"
      ],
      "execution_count": null,
      "outputs": [
        {
          "output_type": "display_data",
          "data": {
            "text/plain": [
              "<Figure size 800x800 with 1 Axes>"
            ],
            "image/png": "[encoded data removed]"
          },
          "metadata": {}
        }
      ]
    },
    {
      "cell_type": "markdown",
      "source": [
        "Notice the roughly linear relationship between `x` and `y`. You can still see the effects of a small sinusoid added in the data generation process, but the effects of this nonlinearity appear small enough that a linear regression model should still be successful."
      ],
      "metadata": {
        "id": "BLF9iOvOkQEI"
      }
    },
    {
      "cell_type": "markdown",
      "metadata": {
        "id": "ICk7ssu1bXo8"
      },
      "source": [
        "## Training/fitting the model\n"
      ]
    },
    {
      "cell_type": "markdown",
      "source": [
        "Now that we have this toy dataset, let's train a model! We will fit a simple linear regression model using the `scikit-learn` package. The documentation provides additional options and details. Below, we will declare a linear model and then fit the model to the training data. This will use the training data to find model weights that optimize the loss function. In the case, the loss function is the mean squared error."
      ],
      "metadata": {
        "id": "bwoPy7qvl3OD"
      }
    },
    {
      "cell_type": "code",
      "metadata": {
        "id": "AyptaJv4iGbf",
        "colab": {
          "base_uri": "https://localhost:8080/",
          "height": 74
        },
        "outputId": "9ac0ee3f-45ea-474e-c9c1-1cad1a3c83a8"
      },
      "source": [
        "from sklearn.linear_model import LinearRegression\n",
        "\n",
        "## fit basic linear model with scikit\n",
        "regr_1d = LinearRegression()\n",
        "# this command trains (fits) the model using the dataset passed in\n",
        "regr_1d.fit(dataset_X_1d, dataset_y_1d)"
      ],
      "execution_count": null,
      "outputs": [
        {
          "output_type": "execute_result",
          "data": {
            "text/plain": [
              "LinearRegression()"
            ],
            "text/html": [
              "<style>#sk-container-id-1 {color: black;background-color: white;}#sk-container-id-1 pre{padding: 0;}#sk-container-id-1 div.sk-toggleable {background-color: white;}#sk-container-id-1 label.sk-toggleable__label {cursor: pointer;display: block;width: 100%;margin-bottom: 0;padding: 0.3em;box-sizing: border-box;text-align: center;}#sk-container-id-1 label.sk-toggleable__label-arrow:before {content: \"▸\";float: left;margin-right: 0.25em;color: #696969;}#sk-container-id-1 label.sk-toggleable__label-arrow:hover:before {color: black;}#sk-container-id-1 div.sk-estimator:hover label.sk-toggleable__label-arrow:before {color: black;}#sk-container-id-1 div.sk-toggleable__content {max-height: 0;max-width: 0;overflow: hidden;text-align: left;background-color: #f0f8ff;}#sk-container-id-1 div.sk-toggleable__content pre {margin: 0.2em;color: black;border-radius: 0.25em;background-color: #f0f8ff;}#sk-container-id-1 input.sk-toggleable__control:checked~div.sk-toggleable__content {max-height: 200px;max-width: 100%;overflow: auto;}#sk-container-id-1 input.sk-toggleable__control:checked~label.sk-toggleable__label-arrow:before {content: \"▾\";}#sk-container-id-1 div.sk-estimator input.sk-toggleable__control:checked~label.sk-toggleable__label {background-color: #d4ebff;}#sk-container-id-1 div.sk-label input.sk-toggleable__control:checked~label.sk-toggleable__label {background-color: #d4ebff;}#sk-container-id-1 input.sk-hidden--visually {border: 0;clip: rect(1px 1px 1px 1px);clip: rect(1px, 1px, 1px, 1px);height: 1px;margin: -1px;overflow: hidden;padding: 0;position: absolute;width: 1px;}#sk-container-id-1 div.sk-estimator {font-family: monospace;background-color: #f0f8ff;border: 1px dotted black;border-radius: 0.25em;box-sizing: border-box;margin-bottom: 0.5em;}#sk-container-id-1 div.sk-estimator:hover {background-color: #d4ebff;}#sk-container-id-1 div.sk-parallel-item::after {content: \"\";width: 100%;border-bottom: 1px solid gray;flex-grow: 1;}#sk-container-id-1 div.sk-label:hover label.sk-toggleable__label {background-color: #d4ebff;}#sk-container-id-1 div.sk-serial::before {content: \"\";position: absolute;border-left: 1px solid gray;box-sizing: border-box;top: 0;bottom: 0;left: 50%;z-index: 0;}#sk-container-id-1 div.sk-serial {display: flex;flex-direction: column;align-items: center;background-color: white;padding-right: 0.2em;padding-left: 0.2em;position: relative;}#sk-container-id-1 div.sk-item {position: relative;z-index: 1;}#sk-container-id-1 div.sk-parallel {display: flex;align-items: stretch;justify-content: center;background-color: white;position: relative;}#sk-container-id-1 div.sk-item::before, #sk-container-id-1 div.sk-parallel-item::before {content: \"\";position: absolute;border-left: 1px solid gray;box-sizing: border-box;top: 0;bottom: 0;left: 50%;z-index: -1;}#sk-container-id-1 div.sk-parallel-item {display: flex;flex-direction: column;z-index: 1;position: relative;background-color: white;}#sk-container-id-1 div.sk-parallel-item:first-child::after {align-self: flex-end;width: 50%;}#sk-container-id-1 div.sk-parallel-item:last-child::after {align-self: flex-start;width: 50%;}#sk-container-id-1 div.sk-parallel-item:only-child::after {width: 0;}#sk-container-id-1 div.sk-dashed-wrapped {border: 1px dashed gray;margin: 0 0.4em 0.5em 0.4em;box-sizing: border-box;padding-bottom: 0.4em;background-color: white;}#sk-container-id-1 div.sk-label label {font-family: monospace;font-weight: bold;display: inline-block;line-height: 1.2em;}#sk-container-id-1 div.sk-label-container {text-align: center;}#sk-container-id-1 div.sk-container {/* jupyter's `normalize.less` sets `[hidden] { display: none; }` but bootstrap.min.css set `[hidden] { display: none !important; }` so we also need the `!important` here to be able to override the default hidden behavior on the sphinx rendered scikit-learn.org. See: https://github.com/scikit-learn/scikit-learn/issues/21755 */display: inline-block !important;position: relative;}#sk-container-id-1 div.sk-text-repr-fallback {display: none;}</style><div id=\"sk-container-id-1\" class=\"sk-top-container\"><div class=\"sk-text-repr-fallback\"><pre>LinearRegression()</pre><b>In a Jupyter environment, please rerun this cell to show the HTML representation or trust the notebook. <br />On GitHub, the HTML representation is unable to render, please try loading this page with nbviewer.org.</b></div><div class=\"sk-container\" hidden><div class=\"sk-item\"><div class=\"sk-estimator sk-toggleable\"><input class=\"sk-toggleable__control sk-hidden--visually\" id=\"sk-estimator-id-1\" type=\"checkbox\" checked><label for=\"sk-estimator-id-1\" class=\"sk-toggleable__label sk-toggleable__label-arrow\">LinearRegression</label><div class=\"sk-toggleable__content\"><pre>LinearRegression()</pre></div></div></div></div></div>"
            ]
          },
          "metadata": {},
          "execution_count": 5
        }
      ]
    },
    {
      "cell_type": "markdown",
      "metadata": {
        "id": "RS3wHcdWeBpA"
      },
      "source": [
        "Since our model has only a single weight, we can view it directly in the model data structure. Compare this coefficient with `w_true` which we used in generating the outputs.\n",
        "\n"
      ]
    },
    {
      "cell_type": "code",
      "metadata": {
        "id": "Lv5LpBXFeNRD",
        "colab": {
          "base_uri": "https://localhost:8080/"
        },
        "outputId": "86041ec5-e2e9-4de6-f2d0-e870558821aa"
      },
      "source": [
        "regr_1d.coef_"
      ],
      "execution_count": null,
      "outputs": [
        {
          "output_type": "execute_result",
          "data": {
            "text/plain": [
              "array([5.19957861])"
            ]
          },
          "metadata": {},
          "execution_count": 6
        }
      ]
    },
    {
      "cell_type": "markdown",
      "source": [
        "**Question**:\n",
        "\n",
        "Why do you think this value is not exactly $5.5$ a.k.a. `w_true`? Hint: look back at the data generation process."
      ],
      "metadata": {
        "id": "1BZR5JlSkz9K"
      }
    },
    {
      "cell_type": "markdown",
      "source": [
        "(Write your answer here)"
      ],
      "metadata": {
        "id": "dD9xgOBo8ef2"
      }
    },
    {
      "cell_type": "markdown",
      "source": [
        "## Generating predictions"
      ],
      "metadata": {
        "id": "i0SiN4EU8Fwd"
      }
    },
    {
      "cell_type": "markdown",
      "metadata": {
        "id": "2qzM3Wbvekwt"
      },
      "source": [
        "Now let's generate model predictions for each example in the dataset, and visualize how the model predictions compare with the true values. The true values ${y}$ are shown with red points, and the predicted values $\\hat{y}$ are shown with black points."
      ]
    },
    {
      "cell_type": "code",
      "metadata": {
        "id": "FKQTDiUce0GZ",
        "colab": {
          "base_uri": "https://localhost:8080/",
          "height": 706
        },
        "outputId": "d7ceeb60-55bf-4661-8571-031ca68a6a62"
      },
      "source": [
        "# sklearn provides prediction function as a standard interface for models\n",
        "pred_y_1d = regr_1d.predict(dataset_X_1d)\n",
        "\n",
        "plt.figure(figsize=(8, 8))\n",
        "plt.scatter(dataset_X_1d[:, 0], dataset_y_1d)\n",
        "plt.scatter(dataset_X_1d[:, 0], pred_y_1d, color='black')\n",
        "plt.xlabel('x', fontsize=18)\n",
        "plt.ylabel('y', fontsize=18)\n",
        "plt.show()"
      ],
      "execution_count": null,
      "outputs": [
        {
          "output_type": "display_data",
          "data": {
            "text/plain": [
              "<Figure size 800x800 with 1 Axes>"
            ],
            "image/png": "[encoded data removed]"
          },
          "metadata": {}
        }
      ]
    },
    {
      "cell_type": "markdown",
      "source": [
        "Q: Why are the predictions (black points) on a perfect line?"
      ],
      "metadata": {
        "id": "fsp2SHHumVHi"
      }
    },
    {
      "cell_type": "markdown",
      "source": [
        "(Write your answer here)"
      ],
      "metadata": {
        "id": "RY11v7FV7csT"
      }
    },
    {
      "cell_type": "markdown",
      "source": [
        "# Improving with nonlinear regression models"
      ],
      "metadata": {
        "id": "4dciEcC08QxE"
      }
    },
    {
      "cell_type": "markdown",
      "metadata": {
        "id": "Whu0IM6T0wTG"
      },
      "source": [
        "We fit our linear regression model to the dataset, and because there is just a single input feature, we can easily identify steps for improving our regression model.\n",
        "\n",
        "From the plot above, we can see that the linear model does a fairly good job of capturing the major trend in $x \\rightarrow y$ relationship. However, there is some meaningful wiggle in the dataset which our linear model does not capture.\n",
        "\n",
        "This situation is an instance of _underfitting_, where our model does not sufficiently \"fit\" our training dataset. Often underfitting can occur when a model makes strong assumptions about how to represent data (what we call _model bias_) compared with the amount of meaningful variation in the input dataset. When a dataset contains more variation than a model can capture, the model will _underfit_ the data.\n",
        "\n",
        "In the example above, because the generating function was nonlinear but the model was linear, the dataset contained more variation than the model could capture, leading to underfitting.\n",
        "\n",
        "To address underfitting, we can try a more expressive model. Rather than a regression model which assumes a linear function, let's try a different modeling choice -- decision tree regression.\n",
        "\n"
      ]
    },
    {
      "cell_type": "code",
      "metadata": {
        "id": "_Ek4WCzk8Mui"
      },
      "source": [
        "from sklearn.tree import DecisionTreeRegressor\n",
        "\n",
        "regr_1d_dt = DecisionTreeRegressor(max_leaf_nodes=5)\n",
        "regr_1d_dt.fit(dataset_X_1d, dataset_y_1d)\n",
        "pred_y_1d_dt = regr_1d_dt.predict(dataset_X_1d)"
      ],
      "execution_count": null,
      "outputs": []
    },
    {
      "cell_type": "code",
      "metadata": {
        "id": "Z00rrRP23dZk",
        "colab": {
          "base_uri": "https://localhost:8080/",
          "height": 706
        },
        "outputId": "12767d29-7101-43f9-c820-2aafede5309e"
      },
      "source": [
        "plt.figure(figsize=(8, 8))\n",
        "plt.scatter(dataset_X_1d[:, 0], dataset_y_1d)\n",
        "plt.scatter(dataset_X_1d[:, 0], pred_y_1d_dt, color='black')\n",
        "plt.xlabel('x', fontsize=18)\n",
        "plt.ylabel('y', fontsize=18)\n",
        "plt.show()"
      ],
      "execution_count": null,
      "outputs": [
        {
          "output_type": "display_data",
          "data": {
            "text/plain": [
              "<Figure size 800x800 with 1 Axes>"
            ],
            "image/png": "[encoded data removed]"
          },
          "metadata": {}
        }
      ]
    },
    {
      "cell_type": "markdown",
      "metadata": {
        "id": "j-ryAJWcBroJ"
      },
      "source": [
        "With this new model, we see our predicted points certainly do not form a straight line! This model partitions the input space $x$ and keeps a local estimate of the $y$ value for each region of the partitioned space. On our plot this appears as large \"steps\" with some outlier areas captured by the model as well.\n",
        "\n",
        "To better see what the model is doing, we can print out the \"logic\" of the trained decision tree below. You can see the model finding division points along the `x` variable in a nested manner --- almost like a nested set of `if` statements. As a result, the model essentially splits the x axis into different \"groups\" that it labels with different target values."
      ]
    },
    {
      "cell_type": "code",
      "source": [
        "from sklearn.tree import export_text\n",
        "print(export_text(regr_1d_dt, feature_names=['x']))"
      ],
      "metadata": {
        "id": "F6qUkHrppU8H",
        "colab": {
          "base_uri": "https://localhost:8080/"
        },
        "outputId": "9624eef5-ea26-46f8-86f5-e51c0163cd55"
      },
      "execution_count": null,
      "outputs": [
        {
          "output_type": "stream",
          "name": "stdout",
          "text": [
            "|--- x <= -1.87\n",
            "|   |--- x <= -4.35\n",
            "|   |   |--- value: [-25.68]\n",
            "|   |--- x >  -4.35\n",
            "|   |   |--- x <= -2.36\n",
            "|   |   |   |--- value: [-17.41]\n",
            "|   |   |--- x >  -2.36\n",
            "|   |   |   |--- value: [-13.29]\n",
            "|--- x >  -1.87\n",
            "|   |--- x <= -1.02\n",
            "|   |   |--- value: [-7.84]\n",
            "|   |--- x >  -1.02\n",
            "|   |   |--- value: [-2.47]\n",
            "\n"
          ]
        }
      ]
    },
    {
      "cell_type": "markdown",
      "source": [
        "\n",
        "The shape of our new predicted values might not match our intuition for the \"right\" way to approximate the data, so how can we compare two regression models?"
      ],
      "metadata": {
        "id": "Yu8m55Ytp1TL"
      }
    },
    {
      "cell_type": "markdown",
      "source": [
        "# Regression error metrics"
      ],
      "metadata": {
        "id": "LnhofXq8mIoV"
      }
    },
    {
      "cell_type": "markdown",
      "metadata": {
        "id": "dN5deyvJDMCE"
      },
      "source": [
        "When evaluating how well a model meets a business need, or how two models compare with one another, often times model comparison starts with performance metrics. These measure performance on the prediction task relative to labeled data.\n",
        "\n",
        "Let's start by defining a few common error metrics:\n",
        "\n",
        "**Mean squared error (MSE)**: Given a dataset of size $n$, with predictions stored in an array $\\hat{y}$ and the true output stored in an array $y$, the MSE is computed as $\\frac{1}{n}\\sum_{i=1}^n (y^{(i)} - \\hat{y}^{(i)})^2$, where $y^{(i)}$ represents the label of the $i$-th example of the dataset. A lower MSE indicates a better predictor. An MSE of 0 indicates perfectly matching each $y$ value, i.e. $y^{(i)} = \\hat{y}^{(i)}$ for all $i$.\n",
        "\n",
        "**$R^2$ regression score function (coefficient of determination)**: This metric measures the \"amount\" of variation in the output $y$ that is explained by the model. $R^2$. is computed as the $1 - \\frac{\\sum_{i=1}^n (y^{(i)} - \\hat{y}^{(i)})^2}{\\sum_{i=1}^n (y^{(i)} - \\bar{y})^2}$ where $\\bar{y} = \\frac{1}{n}\\sum_{i=1}^n y^{(i)}$, the mean over all outputs. A higher $R^2$ is better. A score of 1 indicates the predicted and actual values are perfectly correlated, and the model explains all the variation in the dataset."
      ]
    },
    {
      "cell_type": "markdown",
      "source": [
        "**Question**:\n",
        "\n",
        "What does a negative $R^2$ value mean?"
      ],
      "metadata": {
        "id": "0kgZ-IsU8wsY"
      }
    },
    {
      "cell_type": "markdown",
      "source": [
        "(Write your answer here)"
      ],
      "metadata": {
        "id": "x4TNYY_b8tAe"
      }
    },
    {
      "cell_type": "markdown",
      "source": [
        "## Task: Implement MSE and $R^2$\n"
      ],
      "metadata": {
        "id": "YD2K7h_V95zA"
      }
    },
    {
      "cell_type": "code",
      "source": [
        "# TASK: Implement MSE and R^2 as functions.\n",
        "\n",
        "def mean_squared_error(y, y_hat):\n",
        "  #############################\n",
        "  #### YOUR CODE GOES HERE ####\n",
        "\n",
        "  #############################\n",
        "\n",
        "def r2_score(y, y_hat):\n",
        "  #############################\n",
        "  #### YOUR CODE GOES HERE ####\n",
        "\n",
        "  #############################"
      ],
      "metadata": {
        "id": "F_ApKG76r8wH"
      },
      "execution_count": null,
      "outputs": []
    },
    {
      "cell_type": "code",
      "source": [
        "# Run metrics code on two model predictions\n",
        "print(\"[ours] Linear: mean squared error: %f R^2: %.2f\" % (mean_squared_error(dataset_y_1d, pred_y_1d), r2_score(dataset_y_1d, pred_y_1d)))\n",
        "print(\"[ours] Nonlinear: mean squared error: %f R^2: %.2f\" % (mean_squared_error(dataset_y_1d, pred_y_1d_dt), r2_score(dataset_y_1d, pred_y_1d_dt)))"
      ],
      "metadata": {
        "id": "1Y0UKaItsS09"
      },
      "execution_count": null,
      "outputs": []
    },
    {
      "cell_type": "code",
      "source": [
        "# Check that your implementation matches with scikit-learn\n",
        "from sklearn.metrics import mean_squared_error, r2_score\n",
        "print(\"[scikit-learn] Linear: mean squared error: %f R^2: %.2f\" % (mean_squared_error(dataset_y_1d, pred_y_1d), r2_score(dataset_y_1d, pred_y_1d)))\n",
        "print(\"[scikit-learn] Nonlinear: mean squared error: %f R^2: %.2f\" % (mean_squared_error(dataset_y_1d, pred_y_1d_dt), r2_score(dataset_y_1d, pred_y_1d_dt)))"
      ],
      "metadata": {
        "id": "qg-EDw-KAH_Y"
      },
      "execution_count": null,
      "outputs": []
    },
    {
      "cell_type": "markdown",
      "metadata": {
        "id": "wm4xYIZtcwmk"
      },
      "source": [
        "Based on both MSE and R^2, the nonlinear model fits the dataset better than our initial linear model. We would expect the nonlinear model to make fewer/smaller mistakes on this task because it's a better fit to the data.\n",
        "\n",
        "While in 1-D we can visually inspect the mismatch between the dataset and the models' approximation, on larger ML tasks we will rely more on metrics and best practices to make choices about comparing and improving models."
      ]
    },
    {
      "cell_type": "markdown",
      "metadata": {
        "id": "WEtH4YYyUeCY"
      },
      "source": [
        "## Generalization and development sets\n"
      ]
    },
    {
      "cell_type": "markdown",
      "source": [
        "So far we have fit our model using all examples in our toy dataset. This is fine for building intuitions about model fitting, but it avoids a key question in machine learning -- how well does a model _generalize_ to new data? Ultimately what we care about is that the model does well in deployment, not on the training data.\n",
        "\n",
        "ML models will typically be applied to unseen data, so as a best practice, we withhold part of our full data as a _development_ set (dev set). We do not use this set to fit the model. Instead, we use it only to evaluate performance as an approximation to unseen data.\n",
        "\n",
        "Note: A _test_ set is distinct from a dev set. A test set should be held out and used infrequently for a true measure of performance on unseen data. A dev set is often used to repeatedly evaluate performance during ML system development."
      ],
      "metadata": {
        "id": "aXLwvGUqa-53"
      }
    },
    {
      "cell_type": "code",
      "source": [
        "# NOTE: we should keep the same `w_true` (data generation process) for both training and dev sets.\n",
        "n_test_examples = 500\n",
        "\n",
        "# (almost) identical generation process to training\n",
        "# Whereas the training set samples x points from U(-1, 0), we sample x points\n",
        "# for the dev set from U(0, 1).\n",
        "dev_X_1d = np.random.rand(n_test_examples,1)\n",
        "dev_noise_1d = 0.01*np.random.randn(n_test_examples,1)\n",
        "dev_y_1d = w_true * f(dev_X_1d) + dev_noise_1d\n",
        "dev_y_1d = dev_y_1d.ravel()"
      ],
      "metadata": {
        "id": "Mr43mtNrBfRg"
      },
      "execution_count": null,
      "outputs": []
    },
    {
      "cell_type": "markdown",
      "source": [
        "### Task: Compute and plot development set performance"
      ],
      "metadata": {
        "id": "Q6i1o81Z9tr5"
      }
    },
    {
      "cell_type": "markdown",
      "source": [
        "Similar to what we did to the training dataset above, let's\n",
        "1. Make predictions on the dev set using both the linear model and the nonlinear model.\n",
        "2. Make a Matplotlib figure with two subfigures. In both subfigures, plot the training dataset in red points and dev dataset in blue points. In the first subfigure, plot the predictions of the linear model in black. In the second figure, plot the predictions of the nonlinear model in black.\n",
        "3. Compute MSE and $R^2$ metrics on the dev set (rather than the training set)."
      ],
      "metadata": {
        "id": "mjIVscHtB23V"
      }
    },
    {
      "cell_type": "code",
      "metadata": {
        "id": "8hEGQgZFiRUh"
      },
      "source": [
        "# Predictions on dev set\n",
        "# FILL ME OUT\n",
        "dev_pred_y_1d = regr_1d.predict(dev_X_1d)\n",
        "dev_pred_y_1d_dt = regr_1d_dt.predict(dev_X_1d)\n",
        "\n",
        "# Plot train vs dev on separate plots\n",
        "fig, axs = plt.subplots(2, figsize=(8, 12))\n",
        "\n",
        "#############################\n",
        "#### YOUR CODE GOES HERE ####\n",
        "\n",
        "#############################\n"
      ],
      "execution_count": null,
      "outputs": []
    },
    {
      "cell_type": "markdown",
      "source": [
        "Q: What do you notice about the performance of the more powerful nonlinear model on the dev set compared to the training set?"
      ],
      "metadata": {
        "id": "ysWsmR0bJajj"
      }
    },
    {
      "cell_type": "markdown",
      "source": [
        "(Write your answer here)"
      ],
      "metadata": {
        "id": "8_DG7KmL7hQl"
      }
    },
    {
      "cell_type": "markdown",
      "metadata": {
        "id": "kw-QdIvEqcdn"
      },
      "source": [
        "# Exploring model capacity"
      ]
    },
    {
      "cell_type": "markdown",
      "metadata": {
        "id": "jHXtB3_pMNj8"
      },
      "source": [
        "One way we might hope to improve the generalization performance of our model is by changing the model's _representational capacity_ -- the ability of the model to correctly fit patterns in our training set. Our decision tree regression model allows us to directly alter some aspects of representational capacity by changing the number of free parameters in the model.\n",
        "\n",
        "\n",
        "The `max_leaf_nodes` parameter specifies the maximum number of input partitions (step functions) the model will use to approximate the data. More nodes means that the model can create more specific partitions over the input features. Too many nodes, however, means that the decision tree could \"overfit\" to the training dataset, therefore doing poorly on a dev set.\n"
      ]
    },
    {
      "cell_type": "markdown",
      "metadata": {
        "id": "DjGawz0wq8m8"
      },
      "source": [
        "## **Task: Try several versions of the decision tree model**"
      ]
    },
    {
      "cell_type": "markdown",
      "metadata": {
        "id": "j4F6Pk5KqZwt"
      },
      "source": [
        "\n",
        "Try several values $[2,5,10,15,20,25,30]$ for `max_leaf_nodes`.  \n",
        "\n",
        "Report MSE on train and dev sets using your `mean_squared_error` function. What `max_leaf_nodes` value produced the lowest MSE on the development set?\n"
      ]
    },
    {
      "cell_type": "code",
      "metadata": {
        "id": "xmb126yGR5JH"
      },
      "source": [
        "# fit a DecisionTreeRegression model with different settings\n",
        "#############################\n",
        "#### YOUR CODE GOES HERE ####\n",
        "\n",
        "#############################"
      ],
      "execution_count": null,
      "outputs": []
    },
    {
      "cell_type": "markdown",
      "metadata": {
        "id": "We7wF7pukWBG"
      },
      "source": [
        "## **Task: Plot and compare model predictions**\n",
        "Plot model predictions and ground truth for different settings of `max_leaf_nodes` including the lowest dev set MSE model. What differences can you observe? Might you prefer a model which is not the lowest MSE model on the training set?"
      ]
    },
    {
      "cell_type": "code",
      "metadata": {
        "id": "Y3yV2SJhlEhj"
      },
      "source": [
        "# Plot predictions of your best model and 2 others\n",
        "#############################\n",
        "#### YOUR CODE GOES HERE ####\n",
        "\n",
        "#############################\n",
        "\n",
        "# We don't see very many differences between the different max_leaf_nodes.\n",
        "# There is a bit less overfitting with smaller max_leaf_nodes (less expressive\n",
        "# model), where the prediction is closer to the mean.\n",
        "#\n",
        "# In this case, I would prefer the linear model (black) which generalizes\n",
        "# much better.\n",
        "#\n",
        "# I might prefer a model with higher MSE if I care about the training set more\n",
        "# i.e. i care about the performance in -1 to 0 range, versus 0 to 1 range."
      ],
      "execution_count": null,
      "outputs": []
    },
    {
      "cell_type": "markdown",
      "source": [
        "# Conclusion and next steps\n",
        "\n",
        "Great work! In this session, you got a to try a few different models on a simple regression problem. We introduced the concepts of underfitting, overfitting, evaluation metrics, and hyperparameter tuning with a dev set. Next, we will work on regression problems in a higher dimensional setting."
      ],
      "metadata": {
        "id": "6L0xRqwNmdVD"
      }
    },
    {
      "cell_type": "markdown",
      "source": [
        "# Project session: Adding outliers"
      ],
      "metadata": {
        "id": "jl6Um_DDVMf6"
      }
    },
    {
      "cell_type": "markdown",
      "source": [
        "Add some outlier examples to the training set. Then fit regression models with MSE and compare with our original model"
      ],
      "metadata": {
        "id": "Z-Mq_aHiVRI0"
      }
    },
    {
      "cell_type": "code",
      "source": [
        "extra_X = np.concatenate((-4*np.ones((10,1)), -0.25*np.ones((10,1))))\n",
        "extra_X = extra_X + np.random.randn(*extra_X.shape)\n",
        "new_X = np.concatenate((dataset_X_1d, extra_X))\n",
        "\n",
        "extra_y = np.concatenate((1*np.ones(10), -35*np.ones(10)))\n",
        "new_y = np.concatenate((dataset_y_1d, extra_y))"
      ],
      "metadata": {
        "id": "H7bDEhVcVzMp"
      },
      "execution_count": null,
      "outputs": []
    },
    {
      "cell_type": "code",
      "metadata": {
        "id": "wQFAuFtIWSXU"
      },
      "source": [
        "plt.figure(figsize=(8, 8))\n",
        "# dataset_X_1d has shape (500, 1) so index the 1st column\n",
        "plt.scatter(new_X[:,0], new_y)\n",
        "plt.xlabel('x', fontsize=18)\n",
        "plt.ylabel('y', fontsize=18)\n",
        "plt.show()"
      ],
      "execution_count": null,
      "outputs": []
    },
    {
      "cell_type": "code",
      "metadata": {
        "id": "LWj4CJGqbJ3l"
      },
      "source": [
        "regr_out_l2 = LinearRegression()\n",
        "# this command trains (fits) the model using the dataset passed in\n",
        "regr_out_l2.fit(new_X, new_y)\n",
        "pred_out_l2 = regr_out_l2.predict(new_X)\n",
        "\n",
        "plt.figure(figsize=(8, 8))\n",
        "plt.scatter(new_X[:, 0], new_y)\n",
        "plt.scatter(new_X[:, 0], pred_out_l2, color='yellow')\n",
        "plt.scatter(dataset_X_1d[:, 0], pred_y_1d, color='black')\n",
        "plt.xlabel('x', fontsize=18)\n",
        "plt.ylabel('y', fontsize=18)\n",
        "plt.show()"
      ],
      "execution_count": null,
      "outputs": []
    },
    {
      "cell_type": "markdown",
      "source": [
        "**What are some real applications where slight shifts in a model could have serious impacts?**\n",
        "\n",
        "**How might a small number of concentrated errors arise in a data collection / labeling process?**"
      ],
      "metadata": {
        "id": "jiulju9dnveq"
      }
    },
    {
      "cell_type": "markdown",
      "source": [
        "(Write your answer here)"
      ],
      "metadata": {
        "id": "RGoLQKj1UhR8"
      }
    }
  ]
}